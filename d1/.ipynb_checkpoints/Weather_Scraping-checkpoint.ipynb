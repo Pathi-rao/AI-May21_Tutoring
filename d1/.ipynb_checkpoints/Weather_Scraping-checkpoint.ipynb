{
 "cells": [
  {
   "cell_type": "code",
   "execution_count": 1,
   "id": "powered-sharing",
   "metadata": {
    "ExecuteTime": {
     "end_time": "2021-06-10T13:15:10.886970Z",
     "start_time": "2021-06-10T13:15:09.958701Z"
    }
   },
   "outputs": [
    {
     "name": "stdout",
     "output_type": "stream",
     "text": [
      "setup complete\n"
     ]
    }
   ],
   "source": [
    "from bs4 import BeautifulSoup\n",
    "import requests\n",
    "import numpy as np\n",
    "import pandas as pd\n",
    "import datetime\n",
    "import re\n",
    "\n",
    "print('setup complete')"
   ]
  },
  {
   "cell_type": "code",
   "execution_count": 5,
   "id": "native-storage",
   "metadata": {
    "ExecuteTime": {
     "end_time": "2021-06-10T13:17:34.509750Z",
     "start_time": "2021-06-10T13:17:34.196095Z"
    }
   },
   "outputs": [],
   "source": [
    "container = requests.get(\"https://weather.com/weather/tenday/l/San+Francisco+CA?canonicalCityId=dfdaba8cbe3a4d12a8796e1f7b1ccc7174b4b0a2d5ddb1c8566ae9f154fa638c\" ) \n",
    "soup = BeautifulSoup(container.content, 'html.parser')\n",
    "#print(soup)"
   ]
  },
  {
   "cell_type": "code",
   "execution_count": 24,
   "id": "comprehensive-aquarium",
   "metadata": {
    "ExecuteTime": {
     "end_time": "2021-06-10T13:40:58.408000Z",
     "start_time": "2021-06-10T13:40:58.397029Z"
    }
   },
   "outputs": [
    {
     "name": "stdout",
     "output_type": "stream",
     "text": [
      "['Thu 10', 'Thu 10', 'Fri 11', 'Fri 11', 'Sat 12', 'Sat 12', 'Sun 13', 'Sun 13', 'Mon 14', 'Mon 14', 'Tue 15', 'Tue 15', 'Wed 16', 'Wed 16', 'Thu 17', 'Thu 17', 'Fri 18', 'Fri 18', 'Sat 19', 'Sat 19', 'Sun 20', 'Sun 20', 'Mon 21', 'Mon 21', 'Tue 22', 'Tue 22', 'Wed 23', 'Wed 23', 'Thu 24', 'Thu 24']\n"
     ]
    },
    {
     "data": {
      "text/plain": [
       "30"
      ]
     },
     "execution_count": 24,
     "metadata": {},
     "output_type": "execute_result"
    }
   ],
   "source": [
    "date_container = soup.find_all('h3', class_ = 'DailyContent--daypartName--3G5Y8')\n",
    "date_list = []\n",
    "for each_element in date_container:\n",
    "    date_list.append(each_element.text)\n",
    "    \n",
    "pattern = ' '.join(date_list)\n",
    "\n",
    "x = re.findall('[A-Z][a-z]+ [0-9]+', pattern)\n",
    "print(x)\n",
    "\n",
    "\n",
    "len(date_list)"
   ]
  },
  {
   "cell_type": "code",
   "execution_count": 23,
   "id": "bigger-learning",
   "metadata": {
    "ExecuteTime": {
     "end_time": "2021-06-10T13:40:34.240383Z",
     "start_time": "2021-06-10T13:40:34.223430Z"
    }
   },
   "outputs": [
    {
     "name": "stdout",
     "output_type": "stream",
     "text": [
      "['Partly cloudy skies. High around 60F. Winds W at 15 to 25 mph.', 'Some clouds. Low 49F. Winds W at 10 to 20 mph.', 'Partly cloudy. High 62F. Winds W at 10 to 20 mph.', 'A few clouds from time to time. Low 53F. Winds WSW at 10 to 15 mph.', 'Intervals of clouds and sunshine. High 64F. Winds WSW at 10 to 20 mph.', 'Partly cloudy skies in the evening, then becoming cloudy overnight. Low 54F. Winds W at 10 to 20 mph.', 'Cloudy skies early, followed by partial clearing. High 63F. Winds WSW at 10 to 20 mph.', 'Cloudy. Low around 55F. Winds WSW at 10 to 15 mph.', 'Cloudy skies early will become partly cloudy later in the day. High 63F. Winds W at 10 to 20 mph.', 'Partly cloudy skies. Low 52F. Winds WNW at 10 to 20 mph.', 'Partly cloudy skies. High near 65F. Winds WNW at 15 to 25 mph.', 'Clear to partly cloudy. Low 52F. WNW winds at 10 to 20 mph, decreasing to 5 to 10 mph.', 'Partly cloudy skies. High 67F. Winds W at 10 to 20 mph.', 'Partly cloudy skies. Low 52F. Winds W at 10 to 15 mph.', 'Partly cloudy. High 69F. Winds W at 10 to 20 mph.', 'Some clouds early will give way to generally clear conditions overnight. Low 52F. Winds WSW at 10 to 15 mph.', 'Sunny skies. High 67F. Winds WSW at 10 to 20 mph.', 'A few clouds overnight. Low 51F. Winds WSW at 10 to 15 mph.', 'A few clouds early, otherwise mostly sunny. High 64F. Winds W at 15 to 25 mph.', 'Clear skies with a few passing clouds. Low 51F. Winds W at 10 to 20 mph.', 'Sun and a few passing clouds. High near 65F. Winds W at 10 to 20 mph.', 'Generally fair. Low near 50F. Winds W at 10 to 20 mph.', 'Sunshine along with some cloudy intervals. High 66F. Winds W at 10 to 20 mph.', 'Generally fair. Low 51F. Winds W at 10 to 20 mph.', 'Mostly sunny skies. High 67F. Winds W at 10 to 20 mph.', 'Clear skies with a few passing clouds. Low 51F. Winds W at 10 to 20 mph.', 'Sunshine and clouds mixed. High 66F. Winds WSW at 10 to 20 mph.', 'Partly cloudy. Low 51F. Winds W at 10 to 20 mph.', 'Partly cloudy skies. High 67F. Winds WSW at 10 to 20 mph.', 'Generally fair. Low 52F. Winds WSW at 10 to 20 mph.']\n"
     ]
    },
    {
     "data": {
      "text/plain": [
       "30"
      ]
     },
     "execution_count": 23,
     "metadata": {},
     "output_type": "execute_result"
    }
   ],
   "source": [
    "summary_container = soup.find_all('p', class_ = 'DailyContent--narrative--3AcXd')\n",
    "\n",
    "summary = []\n",
    "for each_element in summary_container:\n",
    "    summary.append(each_element.text)\n",
    "    \n",
    "print(summary)\n",
    "len(summary)"
   ]
  }
 ],
 "metadata": {
  "kernelspec": {
   "display_name": "Python 3",
   "language": "python",
   "name": "python3"
  },
  "language_info": {
   "codemirror_mode": {
    "name": "ipython",
    "version": 3
   },
   "file_extension": ".py",
   "mimetype": "text/x-python",
   "name": "python",
   "nbconvert_exporter": "python",
   "pygments_lexer": "ipython3",
   "version": "3.8.8"
  }
 },
 "nbformat": 4,
 "nbformat_minor": 5
}
