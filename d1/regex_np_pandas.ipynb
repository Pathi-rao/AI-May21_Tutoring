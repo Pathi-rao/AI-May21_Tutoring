{
 "cells": [
  {
   "cell_type": "markdown",
   "id": "czech-microwave",
   "metadata": {},
   "source": [
    "## Let's talk about *Regular Expressions*\n",
    "\n",
    "A regular expression (regex or regexp for short) is a special text string for describing a search pattern. You can think of regular expressions as wildcards on steroids.\n",
    "\n",
    "### \n",
    "\n",
    "### Why to use them?\n",
    "-  regex are fun (scary at first but trust me)\n",
    "-  They can match just about anything\n",
    "-  They help you write short code and much more...\n",
    "\n",
    "###  \n",
    "\n",
    "### Some useful resources\n",
    "- [regex playground](https://regexr.com/)\n",
    "- [documentation](https://docs.python.org/3/library/re.html)\n",
    "- [cheatsheet](https://medium.com/factory-mind/regex-tutorial-a-simple-cheatsheet-by-examples-649dc1c3f285)\n",
    "\n"
   ]
  },
  {
   "cell_type": "markdown",
   "id": "speaking-interpretation",
   "metadata": {},
   "source": [
    "##  "
   ]
  },
  {
   "cell_type": "markdown",
   "id": "pregnant-friend",
   "metadata": {},
   "source": [
    "## Let's play "
   ]
  },
  {
   "cell_type": "code",
   "execution_count": 1,
   "id": "southern-pastor",
   "metadata": {
    "ExecuteTime": {
     "end_time": "2021-06-03T13:34:48.095610Z",
     "start_time": "2021-06-03T13:34:48.083014Z"
    },
    "scrolled": true
   },
   "outputs": [],
   "source": [
    "# How to do you import it?\n",
    "import re"
   ]
  },
  {
   "cell_type": "code",
   "execution_count": 3,
   "id": "2d64d782",
   "metadata": {
    "ExecuteTime": {
     "end_time": "2021-06-03T13:36:22.010311Z",
     "start_time": "2021-06-03T13:36:21.994990Z"
    }
   },
   "outputs": [],
   "source": [
    "#dir(str)"
   ]
  },
  {
   "cell_type": "code",
   "execution_count": 18,
   "id": "rotary-coast",
   "metadata": {
    "ExecuteTime": {
     "end_time": "2021-06-03T13:41:09.937011Z",
     "start_time": "2021-06-03T13:41:09.928328Z"
    }
   },
   "outputs": [
    {
     "name": "stdout",
     "output_type": "stream",
     "text": [
      " Hello everyone Welcome to Strive \n"
     ]
    }
   ],
   "source": [
    "#ex1\n",
    "\n",
    "my_txt = \" Hello @everyone!!!!! Welcome to @@Strive.....!!!!! \"\n",
    "\n",
    "new_txt = re.sub('\\W+', ' ', my_txt)\n",
    "#subsitiue everythng that is a sepcial character with a 'space'\n",
    "print(new_txt)"
   ]
  },
  {
   "cell_type": "code",
   "execution_count": 20,
   "id": "impressed-brooks",
   "metadata": {
    "ExecuteTime": {
     "end_time": "2021-06-03T13:47:19.026074Z",
     "start_time": "2021-06-03T13:47:19.002691Z"
    }
   },
   "outputs": [
    {
     "name": "stdout",
     "output_type": "stream",
     "text": [
      "['180 cm', '79 kg']\n"
     ]
    }
   ],
   "source": [
    "#ex2\n",
    "\n",
    "my_info = \"Hello, I am 180 cm tall and I weigh 79 kg\"\n",
    "\n",
    "new_info = re.findall('\\d+ \\w+', my_info)\n",
    "\n",
    "print(new_info)"
   ]
  },
  {
   "cell_type": "code",
   "execution_count": 21,
   "id": "revolutionary-diploma",
   "metadata": {
    "ExecuteTime": {
     "end_time": "2021-06-03T13:50:13.824906Z",
     "start_time": "2021-06-03T13:50:13.805850Z"
    }
   },
   "outputs": [
    {
     "name": "stdout",
     "output_type": "stream",
     "text": [
      "['myfakeemail@gmail.com']\n"
     ]
    }
   ],
   "source": [
    "#ex3\n",
    "\n",
    "my_email = \"This is my email: myfakeemail@gmail.com\"\n",
    "\n",
    "email  = re.findall('\\S+@\\S+', my_email)\n",
    "\n",
    "print(email)"
   ]
  },
  {
   "cell_type": "markdown",
   "id": "unique-scoop",
   "metadata": {},
   "source": [
    "##  "
   ]
  },
  {
   "cell_type": "markdown",
   "id": "honest-catering",
   "metadata": {},
   "source": [
    "### We need to go *Deeper* (only if you want to)"
   ]
  },
  {
   "cell_type": "markdown",
   "id": "pretty-console",
   "metadata": {},
   "source": [
    "### Can you answer these?\n",
    "- What's numpy?\n",
    "- Why do we use numpy?\n",
    "- Which is fast numpy or python list?\n",
    "- Why?"
   ]
  },
  {
   "cell_type": "code",
   "execution_count": 22,
   "id": "straight-dining",
   "metadata": {
    "ExecuteTime": {
     "end_time": "2021-06-03T13:54:47.519433Z",
     "start_time": "2021-06-03T13:54:42.627820Z"
    }
   },
   "outputs": [
    {
     "name": "stdout",
     "output_type": "stream",
     "text": [
      "Size of each element of list in bytes:  48\n",
      "Size of the whole list in bytes:  48000\n",
      "Size of each element of the Numpy array in bytes: 4\n",
      "Size of the whole Numpy array in bytes: 4000\n"
     ]
    }
   ],
   "source": [
    "import numpy as np\n",
    "import sys\n",
    " \n",
    "#intialize a random list\n",
    "S = range(1000)\n",
    "  \n",
    "# printing size of each element of the list\n",
    "print(\"Size of each element of list in bytes: \",sys.getsizeof(S))\n",
    "  \n",
    "# printing size of the whole list\n",
    "print(\"Size of the whole list in bytes: \",sys.getsizeof(S)*len(S))\n",
    "  \n",
    "\n",
    "# do the same using numpy\n",
    "D = np.arange(1000)\n",
    "  \n",
    "# printing size of each element of the Numpy array\n",
    "print(f\"Size of each element of the Numpy array in bytes: {D.itemsize}\")\n",
    "  \n",
    "# printing size of the whole Numpy array\n",
    "print(f\"Size of the whole Numpy array in bytes: {D.size*D.itemsize}\")"
   ]
  },
  {
   "cell_type": "code",
   "execution_count": 23,
   "id": "aggregate-worst",
   "metadata": {
    "ExecuteTime": {
     "end_time": "2021-06-03T13:56:19.955767Z",
     "start_time": "2021-06-03T13:56:19.939614Z"
    }
   },
   "outputs": [],
   "source": [
    "import time\n",
    "import numpy as np"
   ]
  },
  {
   "cell_type": "code",
   "execution_count": 27,
   "id": "driving-juvenile",
   "metadata": {
    "ExecuteTime": {
     "end_time": "2021-06-03T13:58:47.991968Z",
     "start_time": "2021-06-03T13:58:34.754187Z"
    }
   },
   "outputs": [
    {
     "name": "stdout",
     "output_type": "stream",
     "text": [
      "--- 0.544816255569458 seconds ---\n"
     ]
    }
   ],
   "source": [
    "# time taken by a python list\n",
    "\n",
    "list1 = [i for i in range(1000000)]\n",
    "list2 = [i for i in range(1000000)]\n",
    "\n",
    "start_time = time.time()\n",
    "list_dot = 0\n",
    "\n",
    "for i,j in zip(list1, list2):\n",
    "    list_dot += i*j\n",
    "#end_time = time.time()\n",
    "\n",
    "print(\"--- %s seconds ---\" % (time.time() - start_time))"
   ]
  },
  {
   "cell_type": "code",
   "execution_count": 28,
   "id": "military-spiritual",
   "metadata": {
    "ExecuteTime": {
     "end_time": "2021-06-03T13:59:04.973799Z",
     "start_time": "2021-06-03T13:59:04.194253Z"
    }
   },
   "outputs": [
    {
     "name": "stdout",
     "output_type": "stream",
     "text": [
      "--- 0.02986288070678711 seconds ---\n"
     ]
    }
   ],
   "source": [
    "#time taken by a numpy array\n",
    "\n",
    "array1 = np.array([i for i in range(1000000)])\n",
    "array2 = np.array([i for i in range(1000000)])\n",
    "\n",
    "start_time = time.time()\n",
    "np_dot = np.dot(array1, array2)\n",
    "\n",
    "print(\"--- %s seconds ---\" % (time.time() - start_time))"
   ]
  },
  {
   "cell_type": "markdown",
   "id": "earlier-association",
   "metadata": {},
   "source": [
    "##  "
   ]
  },
  {
   "cell_type": "markdown",
   "id": "reflected-shooting",
   "metadata": {},
   "source": [
    "### Can you answer these?\n",
    "- What's Pandas?\n",
    "- Why do we use Pandas?"
   ]
  },
  {
   "cell_type": "markdown",
   "id": "consistent-colorado",
   "metadata": {},
   "source": [
    "### Let's look at a sample dataset"
   ]
  },
  {
   "cell_type": "code",
   "execution_count": null,
   "id": "indoor-bleeding",
   "metadata": {
    "ExecuteTime": {
     "end_time": "2021-06-03T08:13:32.551100Z",
     "start_time": "2021-06-03T08:13:30.194874Z"
    }
   },
   "outputs": [],
   "source": [
    "#import the library\n",
    "import pandas as pd"
   ]
  },
  {
   "cell_type": "code",
   "execution_count": null,
   "id": "demanding-england",
   "metadata": {
    "ExecuteTime": {
     "end_time": "2021-06-03T08:15:01.817793Z",
     "start_time": "2021-06-03T08:15:01.795821Z"
    }
   },
   "outputs": [],
   "source": [
    "df = pd.read_csv('train.csv')"
   ]
  },
  {
   "cell_type": "code",
   "execution_count": null,
   "id": "identical-warning",
   "metadata": {},
   "outputs": [],
   "source": [
    "#df"
   ]
  },
  {
   "cell_type": "code",
   "execution_count": null,
   "id": "tribal-bones",
   "metadata": {
    "ExecuteTime": {
     "end_time": "2021-06-03T08:14:57.987592Z",
     "start_time": "2021-06-03T08:14:57.973042Z"
    }
   },
   "outputs": [],
   "source": [
    "# NaN values in the df"
   ]
  },
  {
   "cell_type": "code",
   "execution_count": null,
   "id": "numerical-foster",
   "metadata": {},
   "outputs": [],
   "source": [
    "# drop few columns"
   ]
  },
  {
   "cell_type": "code",
   "execution_count": null,
   "id": "maritime-spectacular",
   "metadata": {},
   "outputs": [],
   "source": [
    "# repllace few values"
   ]
  },
  {
   "cell_type": "code",
   "execution_count": null,
   "id": "recognized-philippines",
   "metadata": {},
   "outputs": [],
   "source": [
    "#search for pandas profiling, it will help you a lot with EDA(Exploratory Data Analysis)\n",
    "\n",
    "#report = ProfileReport(df, title=\"Titanic_Profiling_Report\") \n",
    "#report"
   ]
  },
  {
   "cell_type": "markdown",
   "id": "fifth-stress",
   "metadata": {},
   "source": [
    "## "
   ]
  },
  {
   "cell_type": "markdown",
   "id": "tough-modification",
   "metadata": {},
   "source": [
    "### Have you tried *No-Code* tools ?"
   ]
  },
  {
   "cell_type": "markdown",
   "id": "living-polish",
   "metadata": {},
   "source": [
    "- What is [Graphext](https://www.graphext.com/) ?\n",
    "\n",
    "  Graphext lets you to build data science projects remarkably fast, collaboratively and without writing   code.\n",
    "  \n",
    "  \n",
    "- How can i use it?"
   ]
  }
 ],
 "metadata": {
  "kernelspec": {
   "display_name": "Python 3",
   "language": "python",
   "name": "python3"
  },
  "language_info": {
   "codemirror_mode": {
    "name": "ipython",
    "version": 3
   },
   "file_extension": ".py",
   "mimetype": "text/x-python",
   "name": "python",
   "nbconvert_exporter": "python",
   "pygments_lexer": "ipython3",
   "version": "3.8.10"
  }
 },
 "nbformat": 4,
 "nbformat_minor": 5
}
