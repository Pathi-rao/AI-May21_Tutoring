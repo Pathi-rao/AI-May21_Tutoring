{
 "cells": [
  {
   "cell_type": "markdown",
   "id": "2c6e8538",
   "metadata": {},
   "source": [
    "### Let's try to understand how the Machine Learning models work and avoid potential mistakes"
   ]
  },
  {
   "cell_type": "code",
   "execution_count": 34,
   "id": "05d19a0d",
   "metadata": {
    "ExecuteTime": {
     "end_time": "2021-07-01T11:20:45.695868Z",
     "start_time": "2021-07-01T11:20:45.382026Z"
    }
   },
   "outputs": [
    {
     "name": "stdout",
     "output_type": "stream",
     "text": [
      "Setup Complete\n"
     ]
    }
   ],
   "source": [
    "# Do the imports\n",
    "import numpy as np\n",
    "import pandas as pd\n",
    "\n",
    "import matplotlib.pyplot as plt\n",
    "from prettytable import PrettyTable\n",
    "\n",
    "from sklearn.preprocessing import StandardScaler\n",
    "from sklearn.model_selection import train_test_split, cross_validate\n",
    "from sklearn.pipeline import make_pipeline\n",
    "\n",
    "\n",
    "from sklearn.linear_model import LogisticRegression\n",
    "from sklearn.tree import DecisionTreeClassifier as DT\n",
    "from sklearn.neighbors import KNeighborsClassifier\n",
    "from sklearn.svm import SVC\n",
    "from sklearn.naive_bayes import GaussianNB\n",
    "from sklearn.ensemble import RandomForestClassifier as RF\n",
    "\n",
    "from sklearn import metrics\n",
    "from sklearn.metrics import plot_confusion_matrix, accuracy_score\n",
    "from sklearn.metrics import mean_squared_error\n",
    "from sklearn.metrics import mean_absolute_error\n",
    "from sklearn.metrics import r2_score\n",
    "\n",
    "%matplotlib inline\n",
    "%config InlineBackend.figure_format = 'retina'\n",
    "print('Setup Complete')"
   ]
  },
  {
   "cell_type": "code",
   "execution_count": 35,
   "id": "8b7280bc",
   "metadata": {
    "ExecuteTime": {
     "end_time": "2021-07-01T11:20:49.109848Z",
     "start_time": "2021-07-01T11:20:48.864917Z"
    }
   },
   "outputs": [
    {
     "data": {
      "text/html": [
       "<div>\n",
       "<style scoped>\n",
       "    .dataframe tbody tr th:only-of-type {\n",
       "        vertical-align: middle;\n",
       "    }\n",
       "\n",
       "    .dataframe tbody tr th {\n",
       "        vertical-align: top;\n",
       "    }\n",
       "\n",
       "    .dataframe thead th {\n",
       "        text-align: right;\n",
       "    }\n",
       "</style>\n",
       "<table border=\"1\" class=\"dataframe\">\n",
       "  <thead>\n",
       "    <tr style=\"text-align: right;\">\n",
       "      <th></th>\n",
       "      <th>age</th>\n",
       "      <th>sex</th>\n",
       "      <th>cp</th>\n",
       "      <th>trestbps</th>\n",
       "      <th>chol</th>\n",
       "      <th>fbs</th>\n",
       "      <th>restecg</th>\n",
       "      <th>thalach</th>\n",
       "      <th>exang</th>\n",
       "      <th>oldpeak</th>\n",
       "      <th>slope</th>\n",
       "      <th>ca</th>\n",
       "      <th>thal</th>\n",
       "      <th>target</th>\n",
       "    </tr>\n",
       "  </thead>\n",
       "  <tbody>\n",
       "    <tr>\n",
       "      <th>0</th>\n",
       "      <td>63</td>\n",
       "      <td>1</td>\n",
       "      <td>3</td>\n",
       "      <td>145</td>\n",
       "      <td>233</td>\n",
       "      <td>1</td>\n",
       "      <td>0</td>\n",
       "      <td>150</td>\n",
       "      <td>0</td>\n",
       "      <td>2.3</td>\n",
       "      <td>0</td>\n",
       "      <td>0</td>\n",
       "      <td>1</td>\n",
       "      <td>1</td>\n",
       "    </tr>\n",
       "    <tr>\n",
       "      <th>1</th>\n",
       "      <td>37</td>\n",
       "      <td>1</td>\n",
       "      <td>2</td>\n",
       "      <td>130</td>\n",
       "      <td>250</td>\n",
       "      <td>0</td>\n",
       "      <td>1</td>\n",
       "      <td>187</td>\n",
       "      <td>0</td>\n",
       "      <td>3.5</td>\n",
       "      <td>0</td>\n",
       "      <td>0</td>\n",
       "      <td>2</td>\n",
       "      <td>1</td>\n",
       "    </tr>\n",
       "    <tr>\n",
       "      <th>2</th>\n",
       "      <td>41</td>\n",
       "      <td>0</td>\n",
       "      <td>1</td>\n",
       "      <td>130</td>\n",
       "      <td>204</td>\n",
       "      <td>0</td>\n",
       "      <td>0</td>\n",
       "      <td>172</td>\n",
       "      <td>0</td>\n",
       "      <td>1.4</td>\n",
       "      <td>2</td>\n",
       "      <td>0</td>\n",
       "      <td>2</td>\n",
       "      <td>1</td>\n",
       "    </tr>\n",
       "    <tr>\n",
       "      <th>3</th>\n",
       "      <td>56</td>\n",
       "      <td>1</td>\n",
       "      <td>1</td>\n",
       "      <td>120</td>\n",
       "      <td>236</td>\n",
       "      <td>0</td>\n",
       "      <td>1</td>\n",
       "      <td>178</td>\n",
       "      <td>0</td>\n",
       "      <td>0.8</td>\n",
       "      <td>2</td>\n",
       "      <td>0</td>\n",
       "      <td>2</td>\n",
       "      <td>1</td>\n",
       "    </tr>\n",
       "    <tr>\n",
       "      <th>4</th>\n",
       "      <td>57</td>\n",
       "      <td>0</td>\n",
       "      <td>0</td>\n",
       "      <td>120</td>\n",
       "      <td>354</td>\n",
       "      <td>0</td>\n",
       "      <td>1</td>\n",
       "      <td>163</td>\n",
       "      <td>1</td>\n",
       "      <td>0.6</td>\n",
       "      <td>2</td>\n",
       "      <td>0</td>\n",
       "      <td>2</td>\n",
       "      <td>1</td>\n",
       "    </tr>\n",
       "    <tr>\n",
       "      <th>...</th>\n",
       "      <td>...</td>\n",
       "      <td>...</td>\n",
       "      <td>...</td>\n",
       "      <td>...</td>\n",
       "      <td>...</td>\n",
       "      <td>...</td>\n",
       "      <td>...</td>\n",
       "      <td>...</td>\n",
       "      <td>...</td>\n",
       "      <td>...</td>\n",
       "      <td>...</td>\n",
       "      <td>...</td>\n",
       "      <td>...</td>\n",
       "      <td>...</td>\n",
       "    </tr>\n",
       "    <tr>\n",
       "      <th>298</th>\n",
       "      <td>57</td>\n",
       "      <td>0</td>\n",
       "      <td>0</td>\n",
       "      <td>140</td>\n",
       "      <td>241</td>\n",
       "      <td>0</td>\n",
       "      <td>1</td>\n",
       "      <td>123</td>\n",
       "      <td>1</td>\n",
       "      <td>0.2</td>\n",
       "      <td>1</td>\n",
       "      <td>0</td>\n",
       "      <td>3</td>\n",
       "      <td>0</td>\n",
       "    </tr>\n",
       "    <tr>\n",
       "      <th>299</th>\n",
       "      <td>45</td>\n",
       "      <td>1</td>\n",
       "      <td>3</td>\n",
       "      <td>110</td>\n",
       "      <td>264</td>\n",
       "      <td>0</td>\n",
       "      <td>1</td>\n",
       "      <td>132</td>\n",
       "      <td>0</td>\n",
       "      <td>1.2</td>\n",
       "      <td>1</td>\n",
       "      <td>0</td>\n",
       "      <td>3</td>\n",
       "      <td>0</td>\n",
       "    </tr>\n",
       "    <tr>\n",
       "      <th>300</th>\n",
       "      <td>68</td>\n",
       "      <td>1</td>\n",
       "      <td>0</td>\n",
       "      <td>144</td>\n",
       "      <td>193</td>\n",
       "      <td>1</td>\n",
       "      <td>1</td>\n",
       "      <td>141</td>\n",
       "      <td>0</td>\n",
       "      <td>3.4</td>\n",
       "      <td>1</td>\n",
       "      <td>2</td>\n",
       "      <td>3</td>\n",
       "      <td>0</td>\n",
       "    </tr>\n",
       "    <tr>\n",
       "      <th>301</th>\n",
       "      <td>57</td>\n",
       "      <td>1</td>\n",
       "      <td>0</td>\n",
       "      <td>130</td>\n",
       "      <td>131</td>\n",
       "      <td>0</td>\n",
       "      <td>1</td>\n",
       "      <td>115</td>\n",
       "      <td>1</td>\n",
       "      <td>1.2</td>\n",
       "      <td>1</td>\n",
       "      <td>1</td>\n",
       "      <td>3</td>\n",
       "      <td>0</td>\n",
       "    </tr>\n",
       "    <tr>\n",
       "      <th>302</th>\n",
       "      <td>57</td>\n",
       "      <td>0</td>\n",
       "      <td>1</td>\n",
       "      <td>130</td>\n",
       "      <td>236</td>\n",
       "      <td>0</td>\n",
       "      <td>0</td>\n",
       "      <td>174</td>\n",
       "      <td>0</td>\n",
       "      <td>0.0</td>\n",
       "      <td>1</td>\n",
       "      <td>1</td>\n",
       "      <td>2</td>\n",
       "      <td>0</td>\n",
       "    </tr>\n",
       "  </tbody>\n",
       "</table>\n",
       "<p>303 rows × 14 columns</p>\n",
       "</div>"
      ],
      "text/plain": [
       "     age  sex  cp  trestbps  chol  fbs  restecg  thalach  exang  oldpeak  \\\n",
       "0     63    1   3       145   233    1        0      150      0      2.3   \n",
       "1     37    1   2       130   250    0        1      187      0      3.5   \n",
       "2     41    0   1       130   204    0        0      172      0      1.4   \n",
       "3     56    1   1       120   236    0        1      178      0      0.8   \n",
       "4     57    0   0       120   354    0        1      163      1      0.6   \n",
       "..   ...  ...  ..       ...   ...  ...      ...      ...    ...      ...   \n",
       "298   57    0   0       140   241    0        1      123      1      0.2   \n",
       "299   45    1   3       110   264    0        1      132      0      1.2   \n",
       "300   68    1   0       144   193    1        1      141      0      3.4   \n",
       "301   57    1   0       130   131    0        1      115      1      1.2   \n",
       "302   57    0   1       130   236    0        0      174      0      0.0   \n",
       "\n",
       "     slope  ca  thal  target  \n",
       "0        0   0     1       1  \n",
       "1        0   0     2       1  \n",
       "2        2   0     2       1  \n",
       "3        2   0     2       1  \n",
       "4        2   0     2       1  \n",
       "..     ...  ..   ...     ...  \n",
       "298      1   0     3       0  \n",
       "299      1   0     3       0  \n",
       "300      1   2     3       0  \n",
       "301      1   1     3       0  \n",
       "302      1   1     2       0  \n",
       "\n",
       "[303 rows x 14 columns]"
      ]
     },
     "execution_count": 35,
     "metadata": {},
     "output_type": "execute_result"
    }
   ],
   "source": [
    "# Load the data\n",
    "heart_df = pd.read_csv(\"heart.csv\")\n",
    "heart_df\n",
    "\n",
    "#1 is heart attack and 0 is no heart attack"
   ]
  },
  {
   "cell_type": "code",
   "execution_count": 38,
   "id": "e488bc7f",
   "metadata": {
    "ExecuteTime": {
     "end_time": "2021-07-01T11:26:24.451526Z",
     "start_time": "2021-07-01T11:26:24.424833Z"
    }
   },
   "outputs": [
    {
     "data": {
      "text/plain": [
       "array([1, 1, 1, 1, 1, 1, 1, 1, 1, 1, 1, 1, 1, 1, 1, 1, 1, 1, 1, 1, 1, 1,\n",
       "       1, 1, 1, 1, 1, 1, 1, 1, 1, 1, 1, 1, 1, 1, 1, 1, 1, 1, 1, 1, 1, 1,\n",
       "       1, 1, 1, 1, 1, 1, 1, 1, 1, 1, 1, 1, 1, 1, 1, 1, 1, 1, 1, 1, 1, 1,\n",
       "       1, 1, 1, 1, 1, 1, 1, 1, 1, 1, 1, 1, 1, 1, 1, 1, 1, 1, 1, 1, 1, 1,\n",
       "       1, 1, 1, 1, 1, 1, 1, 1, 1, 1, 1, 1, 1, 1, 1, 1, 1, 1, 1, 1, 1, 1,\n",
       "       1, 1, 1, 1, 1, 1, 1, 1, 1, 1, 1, 1, 1, 1, 1, 1, 1, 1, 1, 1, 1, 1,\n",
       "       1, 1, 1, 1, 1, 1, 1, 1, 1, 1, 1, 1, 1, 1, 1, 1, 1, 1, 1, 1, 1, 1,\n",
       "       1, 1, 1, 1, 1, 1, 1, 1, 1, 1, 1, 0, 0, 0, 0, 0, 0, 0, 0, 0, 0, 0,\n",
       "       0, 0, 0, 0, 0, 0, 0, 0, 0, 0, 0, 0, 0, 0, 0, 0, 0, 0, 0, 0, 0, 0,\n",
       "       0, 0, 0, 0, 0, 0, 0, 0, 0, 0, 0, 0, 0, 0, 0, 0, 0, 0, 0, 0, 0, 0,\n",
       "       0, 0, 0, 0, 0, 0, 0, 0, 0, 0, 0, 0, 0, 0, 0, 0, 0, 0, 0, 0, 0, 0,\n",
       "       0, 0, 0, 0, 0, 0, 0, 0, 0, 0, 0, 0, 0, 0, 0, 0, 0, 0, 0, 0, 0, 0,\n",
       "       0, 0, 0, 0, 0, 0, 0, 0, 0, 0, 0, 0, 0, 0, 0, 0, 0, 0, 0, 0, 0, 0,\n",
       "       0, 0, 0, 0, 0, 0, 0, 0, 0, 0, 0, 0, 0, 0, 0, 0, 0], dtype=int64)"
      ]
     },
     "execution_count": 38,
     "metadata": {},
     "output_type": "execute_result"
    }
   ],
   "source": [
    "#separte the features and the target\n",
    "\n",
    "X = heart_df.iloc[:,:-1].values\n",
    "y = heart_df.iloc[:,-1].values\n",
    "y"
   ]
  },
  {
   "cell_type": "code",
   "execution_count": 39,
   "id": "b61c79bf",
   "metadata": {
    "ExecuteTime": {
     "end_time": "2021-07-01T11:26:26.966555Z",
     "start_time": "2021-07-01T11:26:26.941610Z"
    },
    "scrolled": false
   },
   "outputs": [
    {
     "data": {
      "text/plain": [
       "array([1, 1, 1, 1, 1, 1, 1, 1, 1, 1, 1, 1, 1, 1, 1, 1, 1, 1, 1, 1, 1, 1,\n",
       "       1, 1, 1, 1, 1, 1, 1, 1, 1, 1, 1, 1, 1, 1, 1, 1, 1, 1, 1, 1, 1, 1,\n",
       "       1, 1, 1, 1, 1, 1, 1, 1, 1, 1, 1, 1, 1, 1, 1, 1, 1, 1, 1, 1, 1, 1,\n",
       "       1, 1, 1, 1, 1, 1, 1, 1, 1, 1, 1, 1, 1, 1, 1, 1, 1, 1, 1, 1, 1, 1,\n",
       "       1, 1, 1, 1, 1, 1, 1, 1, 1, 1, 1, 1, 1, 1, 1, 1, 1, 1, 1, 1, 1, 1,\n",
       "       1, 1, 1, 1, 1, 1, 1, 1, 1, 1, 1, 1, 1, 1, 1, 1, 1, 1, 1, 1, 1, 1,\n",
       "       1, 1, 1, 1, 1, 1, 1, 1, 1, 1, 1, 1, 1, 1, 1, 1, 1, 1, 1, 1, 1, 1,\n",
       "       1, 1, 1, 1, 1, 1, 1, 1, 1, 1, 1, 0, 0, 0, 0, 0, 0, 0, 0, 0, 0, 0,\n",
       "       0, 0, 0, 0, 0, 0, 0, 0, 0, 0, 0, 0, 0, 0, 0, 0, 0, 0, 0, 0, 0, 0,\n",
       "       0, 0, 0, 0, 0, 0, 0, 0, 0, 0, 0, 0, 0, 0, 0, 0, 0, 0, 0, 0, 0, 0,\n",
       "       0, 0, 0, 0, 0, 0, 0, 0, 0, 0, 0, 0, 0, 0, 0, 0, 0, 0, 0, 0, 0, 0,\n",
       "       0, 0, 0, 0, 0, 0, 0, 0, 0, 0, 0, 0, 0, 0, 0, 0, 0, 0, 0, 0, 0, 0,\n",
       "       0, 0, 0, 0, 0, 0, 0, 0, 0, 0, 0, 0, 0, 0, 0, 0, 0, 0, 0, 0, 0, 0,\n",
       "       0, 0, 0, 0, 0, 0, 0, 0, 0, 0, 0, 0, 0, 0, 0, 0, 0], dtype=int64)"
      ]
     },
     "execution_count": 39,
     "metadata": {},
     "output_type": "execute_result"
    }
   ],
   "source": [
    "y = heart_df.iloc[:,-1].to_numpy()\n",
    "y"
   ]
  },
  {
   "cell_type": "code",
   "execution_count": 45,
   "id": "eb735421",
   "metadata": {
    "ExecuteTime": {
     "end_time": "2021-07-01T11:44:14.120459Z",
     "start_time": "2021-07-01T11:44:14.095527Z"
    }
   },
   "outputs": [
    {
     "data": {
      "text/plain": [
       "array([[42.,  1.,  1., ...,  2.,  0.,  2.],\n",
       "       [58.,  1.,  0., ...,  2.,  0.,  3.],\n",
       "       [46.,  1.,  2., ...,  1.,  0.,  2.],\n",
       "       ...,\n",
       "       [69.,  1.,  3., ...,  1.,  1.,  2.],\n",
       "       [46.,  1.,  0., ...,  2.,  0.,  3.],\n",
       "       [63.,  0.,  1., ...,  2.,  2.,  2.]])"
      ]
     },
     "execution_count": 45,
     "metadata": {},
     "output_type": "execute_result"
    }
   ],
   "source": [
    "#do the train_test split\n",
    "\n",
    "#test or train size ??\n",
    "\n",
    "X_train, X_test, y_train, y_test = train_test_split(X, y, train_size=0.8, random_state=42)\n",
    "X_train"
   ]
  },
  {
   "cell_type": "markdown",
   "id": "8d0a2a43",
   "metadata": {},
   "source": [
    "### - Why do we normalize the data ?\n",
    "### - When to use fit and transform?\n",
    "### - Have you heard about data leakage ?"
   ]
  },
  {
   "cell_type": "code",
   "execution_count": 46,
   "id": "18693137",
   "metadata": {
    "ExecuteTime": {
     "end_time": "2021-07-01T11:44:14.634667Z",
     "start_time": "2021-07-01T11:44:14.606612Z"
    },
    "scrolled": true
   },
   "outputs": [
    {
     "data": {
      "text/plain": [
       "array([[-1.35679832,  0.72250438,  0.00809909, -0.61685555,  0.91403366,\n",
       "        -0.38330071,  0.8431327 ,  0.53278078, -0.67663234, -0.92086403,\n",
       "         0.95390513, -0.68970073, -0.50904773]])"
      ]
     },
     "execution_count": 46,
     "metadata": {},
     "output_type": "execute_result"
    }
   ],
   "source": [
    "#In standardscaler we bring down all the features to a common scale while keeping the same \n",
    "#range of the values\n",
    "scaler = StandardScaler()  \n",
    "\n",
    "#X_train = StandardScaler.fit.transform(X_train)\n",
    "\n",
    "a = scaler.fit(X_train)\n",
    "X_train = a.transform(X_train)\n",
    "#The fit method is calculating the mean and variance of each of the features present in our data.\n",
    "#The transform method is transforming all the features using the respective mean and variance.\n",
    "\n",
    "#xtest = scaler.fit(Xtest) \n",
    "X_test = scaler.transform(X_test)\n",
    "\n",
    "X_train[:1]"
   ]
  },
  {
   "cell_type": "code",
   "execution_count": 47,
   "id": "d957282e",
   "metadata": {
    "ExecuteTime": {
     "end_time": "2021-07-01T11:44:14.834411Z",
     "start_time": "2021-07-01T11:44:14.818331Z"
    }
   },
   "outputs": [
    {
     "data": {
      "text/plain": [
       "sklearn.preprocessing._data.StandardScaler"
      ]
     },
     "execution_count": 47,
     "metadata": {},
     "output_type": "execute_result"
    }
   ],
   "source": [
    "type(scaler)"
   ]
  },
  {
   "cell_type": "markdown",
   "id": "3c85858f",
   "metadata": {},
   "source": [
    "### - What is model.fit and model.predict ?"
   ]
  },
  {
   "cell_type": "code",
   "execution_count": 48,
   "id": "5488c1dc",
   "metadata": {
    "ExecuteTime": {
     "end_time": "2021-07-01T11:44:16.463618Z",
     "start_time": "2021-07-01T11:44:16.368707Z"
    }
   },
   "outputs": [
    {
     "name": "stdout",
     "output_type": "stream",
     "text": [
      "[0 1 1 0 1 1 1 0 0 0 1 0 1 0 1 1 1 0 0 0 1 0 0 1 1 1 1 1 0 1 0 0 0 0 1 0 1\n",
      " 1 1 1 0 1 1 1 1 0 1 1 0 0 0 0 1 1 0 0 0 1 0 0 0]\n"
     ]
    }
   ],
   "source": [
    "#initalize and fit with Logistic Regression\n",
    "model = LogisticRegression(random_state = 42)\n",
    "\n",
    "#initalize the logistic regressor\n",
    "clf = model.fit(X_train, y_train)\n",
    "#Logistic Regression is a Machine Learning classification algorithm that is used to predict the probability\n",
    "#of a categorical dependent variable\n",
    "\n",
    "#make predictions\n",
    "predictions = model.predict(X_test)\n",
    "print(predictions)"
   ]
  },
  {
   "cell_type": "code",
   "execution_count": 51,
   "id": "9af439d4",
   "metadata": {
    "ExecuteTime": {
     "end_time": "2021-07-01T11:52:59.634829Z",
     "start_time": "2021-07-01T11:52:59.620242Z"
    }
   },
   "outputs": [
    {
     "data": {
      "text/plain": [
       "0.8524590163934426"
      ]
     },
     "execution_count": 51,
     "metadata": {},
     "output_type": "execute_result"
    }
   ],
   "source": [
    "#evaluating the performace of our first model\n",
    "# score =clf.score(?, y_test)\n",
    "# print(score)\n",
    "\n",
    "#another way\n",
    "score2 = metrics.accuracy_score(y_test, predictions)\n",
    "score2"
   ]
  },
  {
   "cell_type": "code",
   "execution_count": 52,
   "id": "48ce0334",
   "metadata": {
    "ExecuteTime": {
     "end_time": "2021-07-01T11:55:14.209281Z",
     "start_time": "2021-07-01T11:55:13.372669Z"
    },
    "scrolled": true
   },
   "outputs": [
    {
     "data": {
      "image/png": "[encoded data removed]",
      "text/plain": [
       "<Figure size 432x288 with 2 Axes>"
      ]
     },
     "metadata": {
      "image/png": {
       "height": 261,
       "width": 306
      },
      "needs_background": "light"
     },
     "output_type": "display_data"
    }
   ],
   "source": [
    "plot_confusion_matrix(clf, X_test, y_test)  \n",
    "plt.show()"
   ]
  },
  {
   "cell_type": "markdown",
   "id": "6d2a6a14",
   "metadata": {},
   "source": [
    "#### Cross-validation\n",
    "- Cross-validation is primarily used in applied machine learning to estimate the skill of a machine learning model on unseen data. \n",
    "- That is, to use a limited sample in order to estimate how the model is expected to perform in \n",
    "general when used to make predictions on data and not used during the training of the model.\n",
    "- CV is used as a first line estimate of model stability, not to estimate performance in real world settings\n"
   ]
  },
  {
   "cell_type": "code",
   "execution_count": 53,
   "id": "a7e25760",
   "metadata": {
    "ExecuteTime": {
     "end_time": "2021-07-01T12:00:26.342401Z",
     "start_time": "2021-07-01T12:00:26.230035Z"
    },
    "scrolled": true
   },
   "outputs": [
    {
     "name": "stdout",
     "output_type": "stream",
     "text": [
      "Crossvalidation fold: 0  Accruacy: 0.7755102040816326\n",
      "Crossvalidation fold: 1  Accruacy: 0.8979591836734694\n",
      "Crossvalidation fold: 2  Accruacy: 0.7708333333333334\n",
      "Crossvalidation fold: 3  Accruacy: 0.8541666666666666\n",
      "Crossvalidation fold: 4  Accruacy: 0.7916666666666666\n",
      "Mean train cross validation score 0.8180272108843537\n"
     ]
    }
   ],
   "source": [
    "#cross validate the training set\n",
    "\n",
    "CV = 5\n",
    "\n",
    "clf_cv = LogisticRegression(random_state=42).fit(X_train, y_train)\n",
    "cv = cross_validate(clf_cv, X_train, y_train, cv=CV)\n",
    "\n",
    "def print_scores(cv):\n",
    "    [print('Crossvalidation fold: {}  Accruacy: {}'.format(n, score)) for n, score in enumerate(cv['test_score'])] \n",
    "    print('Mean train cross validation score {}'.format(cv['test_score'].mean()))\n",
    "    \n",
    "print_scores(cv)"
   ]
  },
  {
   "cell_type": "markdown",
   "id": "ac84e0b2",
   "metadata": {},
   "source": [
    "#### Notice that we used default parameters for the model but can we use other parameters ?\n",
    "#### Have you heard about hyperparameter tuning?"
   ]
  },
  {
   "cell_type": "markdown",
   "id": "37e7f474",
   "metadata": {},
   "source": [
    "Algorithm to use in the optimization problem.\n",
    "- solver{‘newton-cg’, ‘lbfgs’, ‘liblinear’, ‘sag’, ‘saga’}, default=’lbfgs’\n",
    "- For small datasets, ‘liblinear’ is a good choice, whereas ‘sag’ and ‘saga’ are faster for large ones.\n",
    "\n",
    "\n",
    "- multi_class{‘auto’, ‘ovr’, ‘multinomial’}, default=’auto’\n",
    "- ‘multinomial’ is unavailable when solver=’liblinear’. ‘auto’ selects ‘ovr’ if the data is binary,\n",
    "- If solver=’liblinear’, and otherwise selects ‘multinomial’.\n"
   ]
  },
  {
   "cell_type": "code",
   "execution_count": null,
   "id": "9bb6d2e7",
   "metadata": {
    "ExecuteTime": {
     "end_time": "2021-07-01T07:48:10.462405Z",
     "start_time": "2021-07-01T07:48:10.169436Z"
    },
    "scrolled": false
   },
   "outputs": [],
   "source": [
    "#cross validate but with different parameters\n",
    "clf_cv = LogisticRegression(solver='lbfgs', multi_class='ovr').fit(X_train, y_train)\n",
    "cv = cross_validate(clf_cv, X, y, cv=5)\n",
    "\n",
    "def print_scores(cv):\n",
    "    [print('Crossvalidation fold: {}  Accruacy: {}'.format(n, score)) for n, score in enumerate(cv['test_score'])]\n",
    "    print('Mean train cross validation score {}'.format(cv['test_score'].mean()))\n",
    "    \n",
    "print_scores(cv)"
   ]
  },
  {
   "cell_type": "markdown",
   "id": "61d846ca",
   "metadata": {},
   "source": [
    "#### Pipeline"
   ]
  },
  {
   "cell_type": "code",
   "execution_count": null,
   "id": "03a1be51",
   "metadata": {
    "ExecuteTime": {
     "end_time": "2021-07-01T07:48:10.571687Z",
     "start_time": "2021-07-01T07:48:10.464956Z"
    }
   },
   "outputs": [],
   "source": [
    "#create a pipeline\n",
    "\n",
    "scaler =StandardScaler();\n",
    "clf = LogisticRegression(solver='lbfgs', multi_class='multinomial');\n",
    "pipe = make_pipeline(scaler, clf);\n",
    "scores = cross_validate(pipe, X, y, cv=5);\n",
    "\n",
    "print(scores)"
   ]
  },
  {
   "cell_type": "markdown",
   "id": "64c013de",
   "metadata": {},
   "source": [
    "#### Rather than trying each algorithm separately, we will train few of them at once"
   ]
  },
  {
   "cell_type": "code",
   "execution_count": 54,
   "id": "bf45d960",
   "metadata": {
    "ExecuteTime": {
     "end_time": "2021-07-01T12:01:32.964175Z",
     "start_time": "2021-07-01T12:01:32.808317Z"
    },
    "scrolled": true
   },
   "outputs": [
    {
     "name": "stdout",
     "output_type": "stream",
     "text": [
      "+------------------------+----------+--------------------+----------+---------------------+\n",
      "|         Model          | Accuracy | Mean Squared Error | R² score | Mean Absolute Error |\n",
      "+------------------------+----------+--------------------+----------+---------------------+\n",
      "|   LogisticRegression   |  0.852   |       0.148        |  0.408   |        0.148        |\n",
      "|  KNeighborsClassifier  |  0.902   |       0.098        |  0.606   |        0.098        |\n",
      "|          SVC           |  0.869   |       0.131        |  0.474   |        0.131        |\n",
      "|       GaussianNB       |  0.869   |       0.131        |  0.474   |        0.131        |\n",
      "| DecisionTreeClassifier |  0.820   |       0.180        |  0.277   |        0.180        |\n",
      "| RandomForestClassifier |  0.852   |       0.148        |  0.408   |        0.148        |\n",
      "+------------------------+----------+--------------------+----------+---------------------+\n"
     ]
    }
   ],
   "source": [
    "\n",
    "table = PrettyTable()\n",
    "table.field_names = [\"Model\",\"Accuracy\", \"Mean Squared Error\", \"R² score\",\"Mean Absolute Error\"]\n",
    "models = [\n",
    "    LogisticRegression(),\n",
    "    KNeighborsClassifier(n_neighbors=5, p=2, metric='minkowski'),\n",
    "    SVC(kernel='linear',random_state=0),\n",
    "    GaussianNB(),\n",
    "    DT(criterion='entropy', random_state=0),\n",
    "    RF(n_estimators=10, criterion='entropy', random_state=0)\n",
    "]\n",
    "\n",
    "\n",
    "for model in models:\n",
    "    model.fit(X_train, y_train) \n",
    "    preds = model.predict(X_test)\n",
    "    accuracy = accuracy_score(y_test, preds)\n",
    "    mse = mean_squared_error(y_test, preds)\n",
    "    r = r2_score(y_test, preds)\n",
    "    mae = mean_absolute_error(y_test, preds)\n",
    "    \n",
    "    table.add_row([type(model).__name__, format(accuracy, '.3f'),format(mse, '.3f'),format(r, '.3f'),format(mae, '.3f')])\n",
    "    \n",
    "print(table)"
   ]
  }
 ],
 "metadata": {
  "interpreter": {
   "hash": "3ead6e9292983b0556c35a755f48f5e707b7132f46c434926dd0c5cfc57e94b2"
  },
  "kernelspec": {
   "display_name": "Python 3",
   "language": "python",
   "name": "python3"
  },
  "language_info": {
   "codemirror_mode": {
    "name": "ipython",
    "version": 3
   },
   "file_extension": ".py",
   "mimetype": "text/x-python",
   "name": "python",
   "nbconvert_exporter": "python",
   "pygments_lexer": "ipython3",
   "version": "3.8.8"
  }
 },
 "nbformat": 4,
 "nbformat_minor": 5
}
